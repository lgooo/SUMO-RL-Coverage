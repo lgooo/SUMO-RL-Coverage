{
 "cells": [
  {
   "cell_type": "code",
   "execution_count": 1,
   "outputs": [],
   "source": [
    "import os\n",
    "import numpy as np\n",
    "import pandas as pd\n",
    "from util import SumoUtil\n",
    "import json\n",
    "from ast import literal_eval"
   ],
   "metadata": {
    "collapsed": false,
    "pycharm": {
     "name": "#%%\n"
    }
   }
  },
  {
   "cell_type": "code",
   "execution_count": 3,
   "outputs": [],
   "source": [
    "root = './data/'\n",
    "experiments = [d for d in os.listdir(root) if os.path.isdir(os.path.join(root,d))]"
   ],
   "metadata": {
    "collapsed": false,
    "pycharm": {
     "name": "#%%\n"
    }
   }
  },
  {
   "cell_type": "code",
   "execution_count": 4,
   "outputs": [],
   "source": [
    "df_list=[]\n",
    "for experiment in experiments:\n",
    "    model_root = os.path.join(root,experiment, 'data')\n",
    "    for f in os.listdir(model_root):\n",
    "        if f.split('.')[1] == 'csv':\n",
    "            df_list.append(pd.read_csv(os.path.join(model_root,f).replace('\\\\','/')))"
   ],
   "metadata": {
    "collapsed": false,
    "pycharm": {
     "name": "#%%\n"
    }
   }
  },
  {
   "cell_type": "code",
   "execution_count": 5,
   "outputs": [],
   "source": [
    "offline_dataset = pd.concat(df_list)"
   ],
   "metadata": {
    "collapsed": false,
    "pycharm": {
     "name": "#%%\n"
    }
   }
  },
  {
   "cell_type": "code",
   "execution_count": 6,
   "outputs": [],
   "source": [
    "offline_dataset = offline_dataset.drop(columns=['Unnamed: 0'])"
   ],
   "metadata": {
    "collapsed": false,
    "pycharm": {
     "name": "#%%\n"
    }
   }
  },
  {
   "cell_type": "code",
   "execution_count": 7,
   "outputs": [
    {
     "data": {
      "text/plain": "         ID  timestep                                                obs  \\\n0         0         0  [[ 1.          0.          8.         23.55003...   \n1         0         1  [[ 1.          0.          8.         23.55003...   \n2         0         2  [[ 1.          0.          8.         23.55003...   \n3         0         3  [[ 1.          0.          8.         23.55003...   \n4         0         4  [[ 1.          0.          8.         23.55003...   \n...     ...       ...                                                ...   \n104965  499       375  [[   1.            0.            2.50408073   ...   \n104966  499       376  [[   1.            0.            2.42409487   ...   \n104967  499       377  [[   1.            0.            2.36410547   ...   \n104968  499       378  [[   1.            0.            2.28411961   ...   \n104969  499       379  [[   1.            0.            2.22413021   ...   \n\n                                                 next_obs    reward  \\\n0       [[ 1.          0.          8.         23.55003...  6.775017   \n1       [[ 1.          0.          8.         23.55003...  6.775017   \n2       [[ 1.          0.          8.         23.55003...  6.775017   \n3       [[ 1.          0.          8.         23.55003...  6.775017   \n4       [[ 1.          0.          8.         23.55003...  6.775017   \n...                                                   ...       ...   \n104965  [[   1.            0.            2.42409487   ...  4.559241   \n104966  [[   1.            0.            2.36410547   ...  4.297471   \n104967  [[   1.            0.            2.28411961   ...  4.792746   \n104968  [[   1.            0.            2.22413021   ...  4.508583   \n104969  [[   1.            0.            2.14414435   ...  4.987065   \n\n                                                   safety  terminate   done  \\\n0       {'near_off_road': 0, 'off_road': 0, 'near_cras...      False  False   \n1       {'near_off_road': 0, 'off_road': 0, 'near_cras...      False  False   \n2       {'near_off_road': 0, 'off_road': 0, 'near_cras...      False  False   \n3       {'near_off_road': 0, 'off_road': 0, 'near_cras...      False  False   \n4       {'near_off_road': 0, 'off_road': 0, 'near_cras...      False  False   \n...                                                   ...        ...    ...   \n104965  {'near_off_road': 0, 'off_road': 0, 'near_cras...      False  False   \n104966  {'near_off_road': 0, 'off_road': 0, 'near_cras...      False  False   \n104967  {'near_off_road': 0, 'off_road': 0, 'near_cras...      False  False   \n104968  {'near_off_road': 0, 'off_road': 0, 'near_cras...      False  False   \n104969  {'near_off_road': 0, 'off_road': 0, 'near_cras...       True  False   \n\n       info  \n0        {}  \n1        {}  \n2        {}  \n3        {}  \n4        {}  \n...     ...  \n104965   {}  \n104966   {}  \n104967   {}  \n104968   {}  \n104969   {}  \n\n[1607264 rows x 9 columns]",
      "text/html": "<div>\n<style scoped>\n    .dataframe tbody tr th:only-of-type {\n        vertical-align: middle;\n    }\n\n    .dataframe tbody tr th {\n        vertical-align: top;\n    }\n\n    .dataframe thead th {\n        text-align: right;\n    }\n</style>\n<table border=\"1\" class=\"dataframe\">\n  <thead>\n    <tr style=\"text-align: right;\">\n      <th></th>\n      <th>ID</th>\n      <th>timestep</th>\n      <th>obs</th>\n      <th>next_obs</th>\n      <th>reward</th>\n      <th>safety</th>\n      <th>terminate</th>\n      <th>done</th>\n      <th>info</th>\n    </tr>\n  </thead>\n  <tbody>\n    <tr>\n      <th>0</th>\n      <td>0</td>\n      <td>0</td>\n      <td>[[ 1.          0.          8.         23.55003...</td>\n      <td>[[ 1.          0.          8.         23.55003...</td>\n      <td>6.775017</td>\n      <td>{'near_off_road': 0, 'off_road': 0, 'near_cras...</td>\n      <td>False</td>\n      <td>False</td>\n      <td>{}</td>\n    </tr>\n    <tr>\n      <th>1</th>\n      <td>0</td>\n      <td>1</td>\n      <td>[[ 1.          0.          8.         23.55003...</td>\n      <td>[[ 1.          0.          8.         23.55003...</td>\n      <td>6.775017</td>\n      <td>{'near_off_road': 0, 'off_road': 0, 'near_cras...</td>\n      <td>False</td>\n      <td>False</td>\n      <td>{}</td>\n    </tr>\n    <tr>\n      <th>2</th>\n      <td>0</td>\n      <td>2</td>\n      <td>[[ 1.          0.          8.         23.55003...</td>\n      <td>[[ 1.          0.          8.         23.55003...</td>\n      <td>6.775017</td>\n      <td>{'near_off_road': 0, 'off_road': 0, 'near_cras...</td>\n      <td>False</td>\n      <td>False</td>\n      <td>{}</td>\n    </tr>\n    <tr>\n      <th>3</th>\n      <td>0</td>\n      <td>3</td>\n      <td>[[ 1.          0.          8.         23.55003...</td>\n      <td>[[ 1.          0.          8.         23.55003...</td>\n      <td>6.775017</td>\n      <td>{'near_off_road': 0, 'off_road': 0, 'near_cras...</td>\n      <td>False</td>\n      <td>False</td>\n      <td>{}</td>\n    </tr>\n    <tr>\n      <th>4</th>\n      <td>0</td>\n      <td>4</td>\n      <td>[[ 1.          0.          8.         23.55003...</td>\n      <td>[[ 1.          0.          8.         23.55003...</td>\n      <td>6.775017</td>\n      <td>{'near_off_road': 0, 'off_road': 0, 'near_cras...</td>\n      <td>False</td>\n      <td>False</td>\n      <td>{}</td>\n    </tr>\n    <tr>\n      <th>...</th>\n      <td>...</td>\n      <td>...</td>\n      <td>...</td>\n      <td>...</td>\n      <td>...</td>\n      <td>...</td>\n      <td>...</td>\n      <td>...</td>\n      <td>...</td>\n    </tr>\n    <tr>\n      <th>104965</th>\n      <td>499</td>\n      <td>375</td>\n      <td>[[   1.            0.            2.50408073   ...</td>\n      <td>[[   1.            0.            2.42409487   ...</td>\n      <td>4.559241</td>\n      <td>{'near_off_road': 0, 'off_road': 0, 'near_cras...</td>\n      <td>False</td>\n      <td>False</td>\n      <td>{}</td>\n    </tr>\n    <tr>\n      <th>104966</th>\n      <td>499</td>\n      <td>376</td>\n      <td>[[   1.            0.            2.42409487   ...</td>\n      <td>[[   1.            0.            2.36410547   ...</td>\n      <td>4.297471</td>\n      <td>{'near_off_road': 0, 'off_road': 0, 'near_cras...</td>\n      <td>False</td>\n      <td>False</td>\n      <td>{}</td>\n    </tr>\n    <tr>\n      <th>104967</th>\n      <td>499</td>\n      <td>377</td>\n      <td>[[   1.            0.            2.36410547   ...</td>\n      <td>[[   1.            0.            2.28411961   ...</td>\n      <td>4.792746</td>\n      <td>{'near_off_road': 0, 'off_road': 0, 'near_cras...</td>\n      <td>False</td>\n      <td>False</td>\n      <td>{}</td>\n    </tr>\n    <tr>\n      <th>104968</th>\n      <td>499</td>\n      <td>378</td>\n      <td>[[   1.            0.            2.28411961   ...</td>\n      <td>[[   1.            0.            2.22413021   ...</td>\n      <td>4.508583</td>\n      <td>{'near_off_road': 0, 'off_road': 0, 'near_cras...</td>\n      <td>False</td>\n      <td>False</td>\n      <td>{}</td>\n    </tr>\n    <tr>\n      <th>104969</th>\n      <td>499</td>\n      <td>379</td>\n      <td>[[   1.            0.            2.22413021   ...</td>\n      <td>[[   1.            0.            2.14414435   ...</td>\n      <td>4.987065</td>\n      <td>{'near_off_road': 0, 'off_road': 0, 'near_cras...</td>\n      <td>True</td>\n      <td>False</td>\n      <td>{}</td>\n    </tr>\n  </tbody>\n</table>\n<p>1607264 rows × 9 columns</p>\n</div>"
     },
     "execution_count": 7,
     "metadata": {},
     "output_type": "execute_result"
    }
   ],
   "source": [
    "offline_dataset"
   ],
   "metadata": {
    "collapsed": false,
    "pycharm": {
     "name": "#%%\n"
    }
   }
  },
  {
   "cell_type": "markdown",
   "source": [
    "Converting string to np array for 'next_obs' column"
   ],
   "metadata": {
    "collapsed": false,
    "pycharm": {
     "name": "#%% md\n"
    }
   }
  },
  {
   "cell_type": "code",
   "execution_count": 221,
   "outputs": [],
   "source": [
    "def converting_obs(obs):\n",
    "    d=' '.join(obs.split())\n",
    "    d=d.replace(\" \",\",\")\n",
    "    new_d = ''\n",
    "    for i in range(len(d)):\n",
    "        if i-1 >=0 and i+1 < len(d):\n",
    "            if d[i]==',' and d[i-1] == '[':\n",
    "                continue\n",
    "            if d[i]==',' and d[i+1] == ']':\n",
    "                continue\n",
    "        new_d+=d[i]\n",
    "    return np.array(literal_eval(new_d))"
   ],
   "metadata": {
    "collapsed": false,
    "pycharm": {
     "name": "#%%\n"
    }
   }
  },
  {
   "cell_type": "code",
   "execution_count": 155,
   "outputs": [
    {
     "ename": "AttributeError",
     "evalue": "'numpy.ndarray' object has no attribute 'split'",
     "output_type": "error",
     "traceback": [
      "\u001B[1;31m---------------------------------------------------------------------------\u001B[0m",
      "\u001B[1;31mAttributeError\u001B[0m                            Traceback (most recent call last)",
      "\u001B[1;32m~\\AppData\\Local\\Temp\\ipykernel_2132\\4086774462.py\u001B[0m in \u001B[0;36m<module>\u001B[1;34m\u001B[0m\n\u001B[1;32m----> 1\u001B[1;33m \u001B[0moffline_dataset\u001B[0m\u001B[1;33m[\u001B[0m\u001B[1;34m'next_obs'\u001B[0m\u001B[1;33m]\u001B[0m \u001B[1;33m=\u001B[0m \u001B[0moffline_dataset\u001B[0m\u001B[1;33m[\u001B[0m\u001B[1;34m'next_obs'\u001B[0m\u001B[1;33m]\u001B[0m\u001B[1;33m.\u001B[0m\u001B[0mapply\u001B[0m\u001B[1;33m(\u001B[0m\u001B[0mconverting_obs\u001B[0m\u001B[1;33m)\u001B[0m\u001B[1;33m\u001B[0m\u001B[1;33m\u001B[0m\u001B[0m\n\u001B[0m",
      "\u001B[1;32mC:\\anaconda3\\envs\\pytorch\\lib\\site-packages\\pandas\\core\\series.py\u001B[0m in \u001B[0;36mapply\u001B[1;34m(self, func, convert_dtype, args, **kwargs)\u001B[0m\n\u001B[0;32m   4355\u001B[0m         \u001B[0mdtype\u001B[0m\u001B[1;33m:\u001B[0m \u001B[0mfloat64\u001B[0m\u001B[1;33m\u001B[0m\u001B[1;33m\u001B[0m\u001B[0m\n\u001B[0;32m   4356\u001B[0m         \"\"\"\n\u001B[1;32m-> 4357\u001B[1;33m         \u001B[1;32mreturn\u001B[0m \u001B[0mSeriesApply\u001B[0m\u001B[1;33m(\u001B[0m\u001B[0mself\u001B[0m\u001B[1;33m,\u001B[0m \u001B[0mfunc\u001B[0m\u001B[1;33m,\u001B[0m \u001B[0mconvert_dtype\u001B[0m\u001B[1;33m,\u001B[0m \u001B[0margs\u001B[0m\u001B[1;33m,\u001B[0m \u001B[0mkwargs\u001B[0m\u001B[1;33m)\u001B[0m\u001B[1;33m.\u001B[0m\u001B[0mapply\u001B[0m\u001B[1;33m(\u001B[0m\u001B[1;33m)\u001B[0m\u001B[1;33m\u001B[0m\u001B[1;33m\u001B[0m\u001B[0m\n\u001B[0m\u001B[0;32m   4358\u001B[0m \u001B[1;33m\u001B[0m\u001B[0m\n\u001B[0;32m   4359\u001B[0m     def _reduce(\n",
      "\u001B[1;32mC:\\anaconda3\\envs\\pytorch\\lib\\site-packages\\pandas\\core\\apply.py\u001B[0m in \u001B[0;36mapply\u001B[1;34m(self)\u001B[0m\n\u001B[0;32m   1041\u001B[0m             \u001B[1;32mreturn\u001B[0m \u001B[0mself\u001B[0m\u001B[1;33m.\u001B[0m\u001B[0mapply_str\u001B[0m\u001B[1;33m(\u001B[0m\u001B[1;33m)\u001B[0m\u001B[1;33m\u001B[0m\u001B[1;33m\u001B[0m\u001B[0m\n\u001B[0;32m   1042\u001B[0m \u001B[1;33m\u001B[0m\u001B[0m\n\u001B[1;32m-> 1043\u001B[1;33m         \u001B[1;32mreturn\u001B[0m \u001B[0mself\u001B[0m\u001B[1;33m.\u001B[0m\u001B[0mapply_standard\u001B[0m\u001B[1;33m(\u001B[0m\u001B[1;33m)\u001B[0m\u001B[1;33m\u001B[0m\u001B[1;33m\u001B[0m\u001B[0m\n\u001B[0m\u001B[0;32m   1044\u001B[0m \u001B[1;33m\u001B[0m\u001B[0m\n\u001B[0;32m   1045\u001B[0m     \u001B[1;32mdef\u001B[0m \u001B[0magg\u001B[0m\u001B[1;33m(\u001B[0m\u001B[0mself\u001B[0m\u001B[1;33m)\u001B[0m\u001B[1;33m:\u001B[0m\u001B[1;33m\u001B[0m\u001B[1;33m\u001B[0m\u001B[0m\n",
      "\u001B[1;32mC:\\anaconda3\\envs\\pytorch\\lib\\site-packages\\pandas\\core\\apply.py\u001B[0m in \u001B[0;36mapply_standard\u001B[1;34m(self)\u001B[0m\n\u001B[0;32m   1099\u001B[0m                     \u001B[0mvalues\u001B[0m\u001B[1;33m,\u001B[0m\u001B[1;33m\u001B[0m\u001B[1;33m\u001B[0m\u001B[0m\n\u001B[0;32m   1100\u001B[0m                     \u001B[0mf\u001B[0m\u001B[1;33m,\u001B[0m  \u001B[1;31m# type: ignore[arg-type]\u001B[0m\u001B[1;33m\u001B[0m\u001B[1;33m\u001B[0m\u001B[0m\n\u001B[1;32m-> 1101\u001B[1;33m                     \u001B[0mconvert\u001B[0m\u001B[1;33m=\u001B[0m\u001B[0mself\u001B[0m\u001B[1;33m.\u001B[0m\u001B[0mconvert_dtype\u001B[0m\u001B[1;33m,\u001B[0m\u001B[1;33m\u001B[0m\u001B[1;33m\u001B[0m\u001B[0m\n\u001B[0m\u001B[0;32m   1102\u001B[0m                 )\n\u001B[0;32m   1103\u001B[0m \u001B[1;33m\u001B[0m\u001B[0m\n",
      "\u001B[1;32mC:\\anaconda3\\envs\\pytorch\\lib\\site-packages\\pandas\\_libs\\lib.pyx\u001B[0m in \u001B[0;36mpandas._libs.lib.map_infer\u001B[1;34m()\u001B[0m\n",
      "\u001B[1;32m~\\AppData\\Local\\Temp\\ipykernel_2132\\877600003.py\u001B[0m in \u001B[0;36mconverting_obs\u001B[1;34m(d)\u001B[0m\n\u001B[0;32m      1\u001B[0m \u001B[1;32mdef\u001B[0m \u001B[0mconverting_obs\u001B[0m\u001B[1;33m(\u001B[0m\u001B[0md\u001B[0m\u001B[1;33m)\u001B[0m\u001B[1;33m:\u001B[0m\u001B[1;33m\u001B[0m\u001B[1;33m\u001B[0m\u001B[0m\n\u001B[1;32m----> 2\u001B[1;33m     \u001B[0md\u001B[0m\u001B[1;33m=\u001B[0m\u001B[1;34m' '\u001B[0m\u001B[1;33m.\u001B[0m\u001B[0mjoin\u001B[0m\u001B[1;33m(\u001B[0m\u001B[0md\u001B[0m\u001B[1;33m.\u001B[0m\u001B[0msplit\u001B[0m\u001B[1;33m(\u001B[0m\u001B[1;33m)\u001B[0m\u001B[1;33m)\u001B[0m\u001B[1;33m\u001B[0m\u001B[1;33m\u001B[0m\u001B[0m\n\u001B[0m\u001B[0;32m      3\u001B[0m     \u001B[0md\u001B[0m\u001B[1;33m=\u001B[0m\u001B[0md\u001B[0m\u001B[1;33m.\u001B[0m\u001B[0mreplace\u001B[0m\u001B[1;33m(\u001B[0m\u001B[1;34m\" \"\u001B[0m\u001B[1;33m,\u001B[0m\u001B[1;34m\",\"\u001B[0m\u001B[1;33m)\u001B[0m\u001B[1;33m\u001B[0m\u001B[1;33m\u001B[0m\u001B[0m\n\u001B[0;32m      4\u001B[0m     \u001B[0mnew_d\u001B[0m \u001B[1;33m=\u001B[0m \u001B[1;34m''\u001B[0m\u001B[1;33m\u001B[0m\u001B[1;33m\u001B[0m\u001B[0m\n\u001B[0;32m      5\u001B[0m     \u001B[1;32mfor\u001B[0m \u001B[0mi\u001B[0m \u001B[1;32min\u001B[0m \u001B[0mrange\u001B[0m\u001B[1;33m(\u001B[0m\u001B[0mlen\u001B[0m\u001B[1;33m(\u001B[0m\u001B[0md\u001B[0m\u001B[1;33m)\u001B[0m\u001B[1;33m)\u001B[0m\u001B[1;33m:\u001B[0m\u001B[1;33m\u001B[0m\u001B[1;33m\u001B[0m\u001B[0m\n",
      "\u001B[1;31mAttributeError\u001B[0m: 'numpy.ndarray' object has no attribute 'split'"
     ]
    }
   ],
   "source": [
    "#offline_dataset['next_obs'] = offline_dataset['next_obs'].apply(converting_obs)"
   ],
   "metadata": {
    "collapsed": false,
    "pycharm": {
     "name": "#%%\n"
    }
   }
  },
  {
   "cell_type": "markdown",
   "source": [
    "Converting string to dict for 'safety' column"
   ],
   "metadata": {
    "collapsed": false,
    "pycharm": {
     "name": "#%% md\n"
    }
   }
  },
  {
   "cell_type": "code",
   "execution_count": 8,
   "outputs": [],
   "source": [
    "offline_dataset['safety'] = offline_dataset['safety'].apply(lambda x: json.loads(x.replace(\"\\'\",\"\\\"\")))"
   ],
   "metadata": {
    "collapsed": false,
    "pycharm": {
     "name": "#%%\n"
    }
   }
  },
  {
   "cell_type": "code",
   "execution_count": 9,
   "outputs": [],
   "source": [
    "def check_safe(safety):\n",
    "    for key in safety:\n",
    "        if safety[key] != 0:\n",
    "            return False\n",
    "    return True\n",
    "\n",
    "def check_unsafe(safety):\n",
    "    return not check_safe(safety)"
   ],
   "metadata": {
    "collapsed": false,
    "pycharm": {
     "name": "#%%\n"
    }
   }
  },
  {
   "cell_type": "code",
   "execution_count": 14,
   "outputs": [],
   "source": [
    "beta = 0.8\n",
    "dataset_size = 300000"
   ],
   "metadata": {
    "collapsed": false,
    "pycharm": {
     "name": "#%%\n"
    }
   }
  },
  {
   "cell_type": "code",
   "execution_count": 15,
   "outputs": [],
   "source": [
    "def check(obs):\n",
    "    if not obs is None:\n",
    "        if obs.shape != (7,5):\n",
    "            print(obs.shape)\n",
    "            return False\n",
    "        return True\n",
    "    return False"
   ],
   "metadata": {
    "collapsed": false,
    "pycharm": {
     "name": "#%%\n"
    }
   }
  },
  {
   "cell_type": "code",
   "execution_count": 16,
   "outputs": [],
   "source": [
    "dangerous_set = offline_dataset.loc[offline_dataset['safety'].apply(check_unsafe)]"
   ],
   "metadata": {
    "collapsed": false,
    "pycharm": {
     "name": "#%%\n"
    }
   }
  },
  {
   "cell_type": "code",
   "execution_count": 17,
   "outputs": [
    {
     "data": {
      "text/plain": "         ID  timestep                                                obs  \\\n46        0        46  [[  1.           0.           1.24266424  23.5...   \n77        1        30  [[  1.           0.           1.1772022   21.4...   \n181       2       103  [[  1.           0.           8.41991328  24.4...   \n182       2       104  [[  1.           0.           8.55981327  24.4...   \n243       3        60  [[   1.            0.            3.81785122   ...   \n...     ...       ...                                                ...   \n103900  496       367  [[  1.           0.           6.55444114  25.4...   \n104539  498       264  [[  1.           0.           2.85885167  39.2...   \n104540  498       265  [[   1.            0.            2.83885193   ...   \n104588  498       313  [[   1.            0.            1.23910106   ...   \n104589  498       314  [[   1.            0.            1.0392503    ...   \n\n                                                 next_obs    reward  \\\n46      [[  1.           0.           1.24266424  23.5... -2.152672   \n77      [[  1.           0.           1.1772022   21.4...  0.330049   \n181     [[  1.           0.           8.55981327  24.4...  4.663119   \n182     [[  1.           0.           8.55981327  24.4...  4.126055   \n243     [[   1.            0.            3.40193888   ... -0.776504   \n...                                                   ...       ...   \n103900  [[  1.           0.           6.55444114  25.4... -1.764685   \n104539  [[   1.            0.            2.83885193   ...  3.381621   \n104540  [[   1.            0.            2.81885219   ... -1.568425   \n104588  [[   1.            0.            1.0392503    ...  1.636081   \n104589  [[   1.            0.            1.0392503    ...  1.051889   \n\n                                                   safety  terminate   done  \\\n46      {'near_off_road': 1, 'off_road': 1, 'near_cras...       True   True   \n77      {'near_off_road': 1, 'off_road': 1, 'near_cras...       True   True   \n181     {'near_off_road': 1, 'off_road': 0, 'near_cras...      False  False   \n182     {'near_off_road': 1, 'off_road': 1, 'near_cras...       True   True   \n243     {'near_off_road': 0, 'off_road': 0, 'near_cras...      False  False   \n...                                                   ...        ...    ...   \n103900  {'near_off_road': 1, 'off_road': 0, 'near_cras...       True   True   \n104539  {'near_off_road': 0, 'off_road': 0, 'near_cras...      False  False   \n104540  {'near_off_road': 0, 'off_road': 0, 'near_cras...      False  False   \n104588  {'near_off_road': 1, 'off_road': 0, 'near_cras...      False  False   \n104589  {'near_off_road': 1, 'off_road': 1, 'near_cras...       True   True   \n\n                         info  \n46      {'out_of_road': True}  \n77      {'out_of_road': True}  \n181                        {}  \n182     {'out_of_road': True}  \n243                        {}  \n...                       ...  \n103900        {'crash': True}  \n104539                     {}  \n104540                     {}  \n104588                     {}  \n104589  {'out_of_road': True}  \n\n[60365 rows x 9 columns]",
      "text/html": "<div>\n<style scoped>\n    .dataframe tbody tr th:only-of-type {\n        vertical-align: middle;\n    }\n\n    .dataframe tbody tr th {\n        vertical-align: top;\n    }\n\n    .dataframe thead th {\n        text-align: right;\n    }\n</style>\n<table border=\"1\" class=\"dataframe\">\n  <thead>\n    <tr style=\"text-align: right;\">\n      <th></th>\n      <th>ID</th>\n      <th>timestep</th>\n      <th>obs</th>\n      <th>next_obs</th>\n      <th>reward</th>\n      <th>safety</th>\n      <th>terminate</th>\n      <th>done</th>\n      <th>info</th>\n    </tr>\n  </thead>\n  <tbody>\n    <tr>\n      <th>46</th>\n      <td>0</td>\n      <td>46</td>\n      <td>[[  1.           0.           1.24266424  23.5...</td>\n      <td>[[  1.           0.           1.24266424  23.5...</td>\n      <td>-2.152672</td>\n      <td>{'near_off_road': 1, 'off_road': 1, 'near_cras...</td>\n      <td>True</td>\n      <td>True</td>\n      <td>{'out_of_road': True}</td>\n    </tr>\n    <tr>\n      <th>77</th>\n      <td>1</td>\n      <td>30</td>\n      <td>[[  1.           0.           1.1772022   21.4...</td>\n      <td>[[  1.           0.           1.1772022   21.4...</td>\n      <td>0.330049</td>\n      <td>{'near_off_road': 1, 'off_road': 1, 'near_cras...</td>\n      <td>True</td>\n      <td>True</td>\n      <td>{'out_of_road': True}</td>\n    </tr>\n    <tr>\n      <th>181</th>\n      <td>2</td>\n      <td>103</td>\n      <td>[[  1.           0.           8.41991328  24.4...</td>\n      <td>[[  1.           0.           8.55981327  24.4...</td>\n      <td>4.663119</td>\n      <td>{'near_off_road': 1, 'off_road': 0, 'near_cras...</td>\n      <td>False</td>\n      <td>False</td>\n      <td>{}</td>\n    </tr>\n    <tr>\n      <th>182</th>\n      <td>2</td>\n      <td>104</td>\n      <td>[[  1.           0.           8.55981327  24.4...</td>\n      <td>[[  1.           0.           8.55981327  24.4...</td>\n      <td>4.126055</td>\n      <td>{'near_off_road': 1, 'off_road': 1, 'near_cras...</td>\n      <td>True</td>\n      <td>True</td>\n      <td>{'out_of_road': True}</td>\n    </tr>\n    <tr>\n      <th>243</th>\n      <td>3</td>\n      <td>60</td>\n      <td>[[   1.            0.            3.81785122   ...</td>\n      <td>[[   1.            0.            3.40193888   ...</td>\n      <td>-0.776504</td>\n      <td>{'near_off_road': 0, 'off_road': 0, 'near_cras...</td>\n      <td>False</td>\n      <td>False</td>\n      <td>{}</td>\n    </tr>\n    <tr>\n      <th>...</th>\n      <td>...</td>\n      <td>...</td>\n      <td>...</td>\n      <td>...</td>\n      <td>...</td>\n      <td>...</td>\n      <td>...</td>\n      <td>...</td>\n      <td>...</td>\n    </tr>\n    <tr>\n      <th>103900</th>\n      <td>496</td>\n      <td>367</td>\n      <td>[[  1.           0.           6.55444114  25.4...</td>\n      <td>[[  1.           0.           6.55444114  25.4...</td>\n      <td>-1.764685</td>\n      <td>{'near_off_road': 1, 'off_road': 0, 'near_cras...</td>\n      <td>True</td>\n      <td>True</td>\n      <td>{'crash': True}</td>\n    </tr>\n    <tr>\n      <th>104539</th>\n      <td>498</td>\n      <td>264</td>\n      <td>[[  1.           0.           2.85885167  39.2...</td>\n      <td>[[   1.            0.            2.83885193   ...</td>\n      <td>3.381621</td>\n      <td>{'near_off_road': 0, 'off_road': 0, 'near_cras...</td>\n      <td>False</td>\n      <td>False</td>\n      <td>{}</td>\n    </tr>\n    <tr>\n      <th>104540</th>\n      <td>498</td>\n      <td>265</td>\n      <td>[[   1.            0.            2.83885193   ...</td>\n      <td>[[   1.            0.            2.81885219   ...</td>\n      <td>-1.568425</td>\n      <td>{'near_off_road': 0, 'off_road': 0, 'near_cras...</td>\n      <td>False</td>\n      <td>False</td>\n      <td>{}</td>\n    </tr>\n    <tr>\n      <th>104588</th>\n      <td>498</td>\n      <td>313</td>\n      <td>[[   1.            0.            1.23910106   ...</td>\n      <td>[[   1.            0.            1.0392503    ...</td>\n      <td>1.636081</td>\n      <td>{'near_off_road': 1, 'off_road': 0, 'near_cras...</td>\n      <td>False</td>\n      <td>False</td>\n      <td>{}</td>\n    </tr>\n    <tr>\n      <th>104589</th>\n      <td>498</td>\n      <td>314</td>\n      <td>[[   1.            0.            1.0392503    ...</td>\n      <td>[[   1.            0.            1.0392503    ...</td>\n      <td>1.051889</td>\n      <td>{'near_off_road': 1, 'off_road': 1, 'near_cras...</td>\n      <td>True</td>\n      <td>True</td>\n      <td>{'out_of_road': True}</td>\n    </tr>\n  </tbody>\n</table>\n<p>60365 rows × 9 columns</p>\n</div>"
     },
     "execution_count": 17,
     "metadata": {},
     "output_type": "execute_result"
    }
   ],
   "source": [
    "dangerous_set"
   ],
   "metadata": {
    "collapsed": false,
    "pycharm": {
     "name": "#%%\n"
    }
   }
  },
  {
   "cell_type": "code",
   "execution_count": 18,
   "outputs": [],
   "source": [
    "safe_set = offline_dataset.loc[offline_dataset['safety'].apply(check_safe)]"
   ],
   "metadata": {
    "collapsed": false,
    "pycharm": {
     "name": "#%%\n"
    }
   }
  },
  {
   "cell_type": "code",
   "execution_count": 19,
   "outputs": [],
   "source": [
    "final_dataset = pd.concat([dangerous_set.head(int(dataset_size * (1-beta))), safe_set.head(int(dataset_size * beta))])"
   ],
   "metadata": {
    "collapsed": false,
    "pycharm": {
     "name": "#%%\n"
    }
   }
  },
  {
   "cell_type": "code",
   "execution_count": 20,
   "outputs": [
    {
     "data": {
      "text/plain": "        ID  timestep                                                obs  \\\n46       0        46  [[  1.           0.           1.24266424  23.5...   \n77       1        30  [[  1.           0.           1.1772022   21.4...   \n181      2       103  [[  1.           0.           8.41991328  24.4...   \n182      2       104  [[  1.           0.           8.55981327  24.4...   \n243      3        60  [[   1.            0.            3.81785122   ...   \n...    ...       ...                                                ...   \n89680  461        25  [[  1.           0.           6.89540669  24.1...   \n89681  461        26  [[  1.           0.           7.19379828  24.1...   \n89682  461        27  [[  1.           0.           7.5118024   24.1...   \n89683  461        28  [[  1.           0.           7.84936206  24.1...   \n89686  462         0  [[ 1.          0.          1.6        23.88536...   \n\n                                                next_obs    reward  \\\n46     [[  1.           0.           1.24266424  23.5... -2.152672   \n77     [[  1.           0.           1.1772022   21.4...  0.330049   \n181    [[  1.           0.           8.55981327  24.4...  4.663119   \n182    [[  1.           0.           8.55981327  24.4...  4.126055   \n243    [[   1.            0.            3.40193888   ... -0.776504   \n...                                                  ...       ...   \n89680  [[  1.           0.           7.19379828  24.1...  0.256106   \n89681  [[  1.           0.           7.5118024   24.1...  0.426271   \n89682  [[  1.           0.           7.84936206  24.1...  0.437895   \n89683  [[  1.           0.           8.2064166   24.1...  0.253540   \n89686  [[ 1.          0.          1.6        23.88536...  6.942683   \n\n                                                  safety  terminate   done  \\\n46     {'near_off_road': 1, 'off_road': 1, 'near_cras...       True   True   \n77     {'near_off_road': 1, 'off_road': 1, 'near_cras...       True   True   \n181    {'near_off_road': 1, 'off_road': 0, 'near_cras...      False  False   \n182    {'near_off_road': 1, 'off_road': 1, 'near_cras...       True   True   \n243    {'near_off_road': 0, 'off_road': 0, 'near_cras...      False  False   \n...                                                  ...        ...    ...   \n89680  {'near_off_road': 0, 'off_road': 0, 'near_cras...      False  False   \n89681  {'near_off_road': 0, 'off_road': 0, 'near_cras...      False  False   \n89682  {'near_off_road': 0, 'off_road': 0, 'near_cras...      False  False   \n89683  {'near_off_road': 0, 'off_road': 0, 'near_cras...      False  False   \n89686  {'near_off_road': 0, 'off_road': 0, 'near_cras...      False  False   \n\n                        info  \n46     {'out_of_road': True}  \n77     {'out_of_road': True}  \n181                       {}  \n182    {'out_of_road': True}  \n243                       {}  \n...                      ...  \n89680                     {}  \n89681                     {}  \n89682                     {}  \n89683                     {}  \n89686                     {}  \n\n[299999 rows x 9 columns]",
      "text/html": "<div>\n<style scoped>\n    .dataframe tbody tr th:only-of-type {\n        vertical-align: middle;\n    }\n\n    .dataframe tbody tr th {\n        vertical-align: top;\n    }\n\n    .dataframe thead th {\n        text-align: right;\n    }\n</style>\n<table border=\"1\" class=\"dataframe\">\n  <thead>\n    <tr style=\"text-align: right;\">\n      <th></th>\n      <th>ID</th>\n      <th>timestep</th>\n      <th>obs</th>\n      <th>next_obs</th>\n      <th>reward</th>\n      <th>safety</th>\n      <th>terminate</th>\n      <th>done</th>\n      <th>info</th>\n    </tr>\n  </thead>\n  <tbody>\n    <tr>\n      <th>46</th>\n      <td>0</td>\n      <td>46</td>\n      <td>[[  1.           0.           1.24266424  23.5...</td>\n      <td>[[  1.           0.           1.24266424  23.5...</td>\n      <td>-2.152672</td>\n      <td>{'near_off_road': 1, 'off_road': 1, 'near_cras...</td>\n      <td>True</td>\n      <td>True</td>\n      <td>{'out_of_road': True}</td>\n    </tr>\n    <tr>\n      <th>77</th>\n      <td>1</td>\n      <td>30</td>\n      <td>[[  1.           0.           1.1772022   21.4...</td>\n      <td>[[  1.           0.           1.1772022   21.4...</td>\n      <td>0.330049</td>\n      <td>{'near_off_road': 1, 'off_road': 1, 'near_cras...</td>\n      <td>True</td>\n      <td>True</td>\n      <td>{'out_of_road': True}</td>\n    </tr>\n    <tr>\n      <th>181</th>\n      <td>2</td>\n      <td>103</td>\n      <td>[[  1.           0.           8.41991328  24.4...</td>\n      <td>[[  1.           0.           8.55981327  24.4...</td>\n      <td>4.663119</td>\n      <td>{'near_off_road': 1, 'off_road': 0, 'near_cras...</td>\n      <td>False</td>\n      <td>False</td>\n      <td>{}</td>\n    </tr>\n    <tr>\n      <th>182</th>\n      <td>2</td>\n      <td>104</td>\n      <td>[[  1.           0.           8.55981327  24.4...</td>\n      <td>[[  1.           0.           8.55981327  24.4...</td>\n      <td>4.126055</td>\n      <td>{'near_off_road': 1, 'off_road': 1, 'near_cras...</td>\n      <td>True</td>\n      <td>True</td>\n      <td>{'out_of_road': True}</td>\n    </tr>\n    <tr>\n      <th>243</th>\n      <td>3</td>\n      <td>60</td>\n      <td>[[   1.            0.            3.81785122   ...</td>\n      <td>[[   1.            0.            3.40193888   ...</td>\n      <td>-0.776504</td>\n      <td>{'near_off_road': 0, 'off_road': 0, 'near_cras...</td>\n      <td>False</td>\n      <td>False</td>\n      <td>{}</td>\n    </tr>\n    <tr>\n      <th>...</th>\n      <td>...</td>\n      <td>...</td>\n      <td>...</td>\n      <td>...</td>\n      <td>...</td>\n      <td>...</td>\n      <td>...</td>\n      <td>...</td>\n      <td>...</td>\n    </tr>\n    <tr>\n      <th>89680</th>\n      <td>461</td>\n      <td>25</td>\n      <td>[[  1.           0.           6.89540669  24.1...</td>\n      <td>[[  1.           0.           7.19379828  24.1...</td>\n      <td>0.256106</td>\n      <td>{'near_off_road': 0, 'off_road': 0, 'near_cras...</td>\n      <td>False</td>\n      <td>False</td>\n      <td>{}</td>\n    </tr>\n    <tr>\n      <th>89681</th>\n      <td>461</td>\n      <td>26</td>\n      <td>[[  1.           0.           7.19379828  24.1...</td>\n      <td>[[  1.           0.           7.5118024   24.1...</td>\n      <td>0.426271</td>\n      <td>{'near_off_road': 0, 'off_road': 0, 'near_cras...</td>\n      <td>False</td>\n      <td>False</td>\n      <td>{}</td>\n    </tr>\n    <tr>\n      <th>89682</th>\n      <td>461</td>\n      <td>27</td>\n      <td>[[  1.           0.           7.5118024   24.1...</td>\n      <td>[[  1.           0.           7.84936206  24.1...</td>\n      <td>0.437895</td>\n      <td>{'near_off_road': 0, 'off_road': 0, 'near_cras...</td>\n      <td>False</td>\n      <td>False</td>\n      <td>{}</td>\n    </tr>\n    <tr>\n      <th>89683</th>\n      <td>461</td>\n      <td>28</td>\n      <td>[[  1.           0.           7.84936206  24.1...</td>\n      <td>[[  1.           0.           8.2064166   24.1...</td>\n      <td>0.253540</td>\n      <td>{'near_off_road': 0, 'off_road': 0, 'near_cras...</td>\n      <td>False</td>\n      <td>False</td>\n      <td>{}</td>\n    </tr>\n    <tr>\n      <th>89686</th>\n      <td>462</td>\n      <td>0</td>\n      <td>[[ 1.          0.          1.6        23.88536...</td>\n      <td>[[ 1.          0.          1.6        23.88536...</td>\n      <td>6.942683</td>\n      <td>{'near_off_road': 0, 'off_road': 0, 'near_cras...</td>\n      <td>False</td>\n      <td>False</td>\n      <td>{}</td>\n    </tr>\n  </tbody>\n</table>\n<p>299999 rows × 9 columns</p>\n</div>"
     },
     "execution_count": 20,
     "metadata": {},
     "output_type": "execute_result"
    }
   ],
   "source": [
    "final_dataset"
   ],
   "metadata": {
    "collapsed": false,
    "pycharm": {
     "name": "#%%\n"
    }
   }
  },
  {
   "cell_type": "code",
   "execution_count": 21,
   "outputs": [],
   "source": [
    "final_dataset.to_csv(\"./beta80.csv\",sep = '\\t')"
   ],
   "metadata": {
    "collapsed": false,
    "pycharm": {
     "name": "#%%\n"
    }
   }
  },
  {
   "cell_type": "code",
   "execution_count": null,
   "outputs": [],
   "source": [],
   "metadata": {
    "collapsed": false,
    "pycharm": {
     "name": "#%%\n"
    }
   }
  }
 ],
 "metadata": {
  "kernelspec": {
   "display_name": "Python 3",
   "language": "python",
   "name": "python3"
  },
  "language_info": {
   "codemirror_mode": {
    "name": "ipython",
    "version": 2
   },
   "file_extension": ".py",
   "mimetype": "text/x-python",
   "name": "python",
   "nbconvert_exporter": "python",
   "pygments_lexer": "ipython2",
   "version": "2.7.6"
  }
 },
 "nbformat": 4,
 "nbformat_minor": 0
}