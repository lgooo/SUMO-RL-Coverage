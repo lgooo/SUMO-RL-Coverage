{
 "cells": [
  {
   "cell_type": "code",
   "execution_count": 1,
   "metadata": {
    "collapsed": true,
    "pycharm": {
     "name": "#%%\n"
    }
   },
   "outputs": [],
   "source": [
    "import os\n",
    "import numpy as np\n",
    "import pandas as pd\n",
    "import json\n",
    "from ast import literal_eval"
   ]
  },
  {
   "cell_type": "code",
   "execution_count": 2,
   "outputs": [],
   "source": [
    "path = \"beta80.csv\""
   ],
   "metadata": {
    "collapsed": false,
    "pycharm": {
     "name": "#%%\n"
    }
   }
  },
  {
   "cell_type": "code",
   "execution_count": 4,
   "outputs": [],
   "source": [
    "df = pd.read_csv(path,sep='\\t')"
   ],
   "metadata": {
    "collapsed": false,
    "pycharm": {
     "name": "#%%\n"
    }
   }
  },
  {
   "cell_type": "code",
   "execution_count": 5,
   "outputs": [
    {
     "data": {
      "text/plain": "       Unnamed: 0                                           next_obs  \\\n0            4331  [[  1.           0.           8.56482666  26.0...   \n1            4332  [[  1.           0.           9.09547186  26.0...   \n2            7926  [[  1.           0.           1.01421351  26.5...   \n3            7927  [[  1.           0.           0.6176687   26.5...   \n4            8734  [[  1.           0.           8.58471676  25.5...   \n...           ...                                                ...   \n24995        2764  [[   1.            0.            1.6          ...   \n24996        2765  [[   1.            0.            1.6          ...   \n24997        2766  [[   1.            0.            1.6          ...   \n24998        2767  [[   1.            0.            1.6          ...   \n24999        2768  [[   1.            0.            1.6          ...   \n\n         reward                                             safety  terminate  \\\n0     -4.000180  {'near_off_road': 1, 'off_road': 0, 'near_cras...      False   \n1     -4.716386  {'near_off_road': 1, 'off_road': 1, 'near_cras...       True   \n2     -0.730130  {'near_off_road': 1, 'off_road': 0, 'near_cras...      False   \n3     -1.429716  {'near_off_road': 1, 'off_road': 1, 'near_cras...       True   \n4     -1.682766  {'near_off_road': 1, 'off_road': 0, 'near_cras...      False   \n...         ...                                                ...        ...   \n24995  5.766499  {'near_off_road': 0, 'off_road': 0, 'near_cras...      False   \n24996  5.766499  {'near_off_road': 0, 'off_road': 0, 'near_cras...      False   \n24997  5.766499  {'near_off_road': 0, 'off_road': 0, 'near_cras...      False   \n24998  5.766499  {'near_off_road': 0, 'off_road': 0, 'near_cras...      False   \n24999  5.766499  {'near_off_road': 0, 'off_road': 0, 'near_cras...      False   \n\n        done                   info  \n0      False                     {}  \n1       True  {'out_of_road': True}  \n2      False                     {}  \n3       True  {'out_of_road': True}  \n4      False                     {}  \n...      ...                    ...  \n24995  False                     {}  \n24996  False                     {}  \n24997  False                     {}  \n24998  False                     {}  \n24999  False                     {}  \n\n[25000 rows x 7 columns]",
      "text/html": "<div>\n<style scoped>\n    .dataframe tbody tr th:only-of-type {\n        vertical-align: middle;\n    }\n\n    .dataframe tbody tr th {\n        vertical-align: top;\n    }\n\n    .dataframe thead th {\n        text-align: right;\n    }\n</style>\n<table border=\"1\" class=\"dataframe\">\n  <thead>\n    <tr style=\"text-align: right;\">\n      <th></th>\n      <th>Unnamed: 0</th>\n      <th>next_obs</th>\n      <th>reward</th>\n      <th>safety</th>\n      <th>terminate</th>\n      <th>done</th>\n      <th>info</th>\n    </tr>\n  </thead>\n  <tbody>\n    <tr>\n      <th>0</th>\n      <td>4331</td>\n      <td>[[  1.           0.           8.56482666  26.0...</td>\n      <td>-4.000180</td>\n      <td>{'near_off_road': 1, 'off_road': 0, 'near_cras...</td>\n      <td>False</td>\n      <td>False</td>\n      <td>{}</td>\n    </tr>\n    <tr>\n      <th>1</th>\n      <td>4332</td>\n      <td>[[  1.           0.           9.09547186  26.0...</td>\n      <td>-4.716386</td>\n      <td>{'near_off_road': 1, 'off_road': 1, 'near_cras...</td>\n      <td>True</td>\n      <td>True</td>\n      <td>{'out_of_road': True}</td>\n    </tr>\n    <tr>\n      <th>2</th>\n      <td>7926</td>\n      <td>[[  1.           0.           1.01421351  26.5...</td>\n      <td>-0.730130</td>\n      <td>{'near_off_road': 1, 'off_road': 0, 'near_cras...</td>\n      <td>False</td>\n      <td>False</td>\n      <td>{}</td>\n    </tr>\n    <tr>\n      <th>3</th>\n      <td>7927</td>\n      <td>[[  1.           0.           0.6176687   26.5...</td>\n      <td>-1.429716</td>\n      <td>{'near_off_road': 1, 'off_road': 1, 'near_cras...</td>\n      <td>True</td>\n      <td>True</td>\n      <td>{'out_of_road': True}</td>\n    </tr>\n    <tr>\n      <th>4</th>\n      <td>8734</td>\n      <td>[[  1.           0.           8.58471676  25.5...</td>\n      <td>-1.682766</td>\n      <td>{'near_off_road': 1, 'off_road': 0, 'near_cras...</td>\n      <td>False</td>\n      <td>False</td>\n      <td>{}</td>\n    </tr>\n    <tr>\n      <th>...</th>\n      <td>...</td>\n      <td>...</td>\n      <td>...</td>\n      <td>...</td>\n      <td>...</td>\n      <td>...</td>\n      <td>...</td>\n    </tr>\n    <tr>\n      <th>24995</th>\n      <td>2764</td>\n      <td>[[   1.            0.            1.6          ...</td>\n      <td>5.766499</td>\n      <td>{'near_off_road': 0, 'off_road': 0, 'near_cras...</td>\n      <td>False</td>\n      <td>False</td>\n      <td>{}</td>\n    </tr>\n    <tr>\n      <th>24996</th>\n      <td>2765</td>\n      <td>[[   1.            0.            1.6          ...</td>\n      <td>5.766499</td>\n      <td>{'near_off_road': 0, 'off_road': 0, 'near_cras...</td>\n      <td>False</td>\n      <td>False</td>\n      <td>{}</td>\n    </tr>\n    <tr>\n      <th>24997</th>\n      <td>2766</td>\n      <td>[[   1.            0.            1.6          ...</td>\n      <td>5.766499</td>\n      <td>{'near_off_road': 0, 'off_road': 0, 'near_cras...</td>\n      <td>False</td>\n      <td>False</td>\n      <td>{}</td>\n    </tr>\n    <tr>\n      <th>24998</th>\n      <td>2767</td>\n      <td>[[   1.            0.            1.6          ...</td>\n      <td>5.766499</td>\n      <td>{'near_off_road': 0, 'off_road': 0, 'near_cras...</td>\n      <td>False</td>\n      <td>False</td>\n      <td>{}</td>\n    </tr>\n    <tr>\n      <th>24999</th>\n      <td>2768</td>\n      <td>[[   1.            0.            1.6          ...</td>\n      <td>5.766499</td>\n      <td>{'near_off_road': 0, 'off_road': 0, 'near_cras...</td>\n      <td>False</td>\n      <td>False</td>\n      <td>{}</td>\n    </tr>\n  </tbody>\n</table>\n<p>25000 rows × 7 columns</p>\n</div>"
     },
     "execution_count": 5,
     "metadata": {},
     "output_type": "execute_result"
    }
   ],
   "source": [
    "df"
   ],
   "metadata": {
    "collapsed": false,
    "pycharm": {
     "name": "#%%\n"
    }
   }
  },
  {
   "cell_type": "code",
   "execution_count": 6,
   "outputs": [],
   "source": [
    "df = df.drop(columns=['Unnamed: 0'])"
   ],
   "metadata": {
    "collapsed": false,
    "pycharm": {
     "name": "#%%\n"
    }
   }
  },
  {
   "cell_type": "code",
   "execution_count": 7,
   "outputs": [],
   "source": [
    "def converting_obs(obs):\n",
    "    d=' '.join(obs.split())\n",
    "    d=d.replace(\" \",\",\")\n",
    "    new_d = ''\n",
    "    for i in range(len(d)):\n",
    "        if i-1 >=0 and i+1 < len(d):\n",
    "            if d[i]==',' and d[i-1] == '[':\n",
    "                continue\n",
    "            if d[i]==',' and d[i+1] == ']':\n",
    "                continue\n",
    "        new_d+=d[i]\n",
    "    return np.array(literal_eval(new_d))"
   ],
   "metadata": {
    "collapsed": false,
    "pycharm": {
     "name": "#%%\n"
    }
   }
  },
  {
   "cell_type": "code",
   "execution_count": 8,
   "outputs": [],
   "source": [
    "df['next_obs'] = df['next_obs'].apply(converting_obs)\n",
    "df['safety'] = df['safety'].apply(lambda x: json.loads(x.replace(\"\\'\",\"\\\"\")))"
   ],
   "metadata": {
    "collapsed": false,
    "pycharm": {
     "name": "#%%\n"
    }
   }
  },
  {
   "cell_type": "code",
   "execution_count": 9,
   "outputs": [
    {
     "data": {
      "text/plain": "                                                next_obs    reward  \\\n0      [[1.0, 0.0, 8.56482666, 26.00264346, 5.2], [0.... -4.000180   \n1      [[1.0, 0.0, 9.09547186, 26.00264346, 5.4], [0.... -4.716386   \n2      [[1.0, 0.0, 1.01421351, 26.51343003, -3.8], [1... -0.730130   \n3      [[1.0, 0.0, 0.6176687, 26.51343003, -4.0], [1.... -1.429716   \n4      [[1.0, 0.0, 8.58471676, 25.5604393, 3.8], [0.0... -1.682766   \n...                                                  ...       ...   \n24995  [[1.0, 0.0, 1.6, 25.76649929, 0.0], [1.0, 29.5...  5.766499   \n24996  [[1.0, 0.0, 1.6, 25.76649929, 0.0], [1.0, 30.3...  5.766499   \n24997  [[1.0, 0.0, 1.6, 25.76649929, 0.0], [1.0, 31.1...  5.766499   \n24998  [[1.0, 0.0, 1.6, 25.76649929, 0.0], [1.0, 32.0...  5.766499   \n24999  [[1.0, 0.0, 1.6, 25.76649929, 0.0], [1.0, 32.8...  5.766499   \n\n                                                  safety  terminate   done  \\\n0      {'near_off_road': 1, 'off_road': 0, 'near_cras...      False  False   \n1      {'near_off_road': 1, 'off_road': 1, 'near_cras...       True   True   \n2      {'near_off_road': 1, 'off_road': 0, 'near_cras...      False  False   \n3      {'near_off_road': 1, 'off_road': 1, 'near_cras...       True   True   \n4      {'near_off_road': 1, 'off_road': 0, 'near_cras...      False  False   \n...                                                  ...        ...    ...   \n24995  {'near_off_road': 0, 'off_road': 0, 'near_cras...      False  False   \n24996  {'near_off_road': 0, 'off_road': 0, 'near_cras...      False  False   \n24997  {'near_off_road': 0, 'off_road': 0, 'near_cras...      False  False   \n24998  {'near_off_road': 0, 'off_road': 0, 'near_cras...      False  False   \n24999  {'near_off_road': 0, 'off_road': 0, 'near_cras...      False  False   \n\n                        info  \n0                         {}  \n1      {'out_of_road': True}  \n2                         {}  \n3      {'out_of_road': True}  \n4                         {}  \n...                      ...  \n24995                     {}  \n24996                     {}  \n24997                     {}  \n24998                     {}  \n24999                     {}  \n\n[25000 rows x 6 columns]",
      "text/html": "<div>\n<style scoped>\n    .dataframe tbody tr th:only-of-type {\n        vertical-align: middle;\n    }\n\n    .dataframe tbody tr th {\n        vertical-align: top;\n    }\n\n    .dataframe thead th {\n        text-align: right;\n    }\n</style>\n<table border=\"1\" class=\"dataframe\">\n  <thead>\n    <tr style=\"text-align: right;\">\n      <th></th>\n      <th>next_obs</th>\n      <th>reward</th>\n      <th>safety</th>\n      <th>terminate</th>\n      <th>done</th>\n      <th>info</th>\n    </tr>\n  </thead>\n  <tbody>\n    <tr>\n      <th>0</th>\n      <td>[[1.0, 0.0, 8.56482666, 26.00264346, 5.2], [0....</td>\n      <td>-4.000180</td>\n      <td>{'near_off_road': 1, 'off_road': 0, 'near_cras...</td>\n      <td>False</td>\n      <td>False</td>\n      <td>{}</td>\n    </tr>\n    <tr>\n      <th>1</th>\n      <td>[[1.0, 0.0, 9.09547186, 26.00264346, 5.4], [0....</td>\n      <td>-4.716386</td>\n      <td>{'near_off_road': 1, 'off_road': 1, 'near_cras...</td>\n      <td>True</td>\n      <td>True</td>\n      <td>{'out_of_road': True}</td>\n    </tr>\n    <tr>\n      <th>2</th>\n      <td>[[1.0, 0.0, 1.01421351, 26.51343003, -3.8], [1...</td>\n      <td>-0.730130</td>\n      <td>{'near_off_road': 1, 'off_road': 0, 'near_cras...</td>\n      <td>False</td>\n      <td>False</td>\n      <td>{}</td>\n    </tr>\n    <tr>\n      <th>3</th>\n      <td>[[1.0, 0.0, 0.6176687, 26.51343003, -4.0], [1....</td>\n      <td>-1.429716</td>\n      <td>{'near_off_road': 1, 'off_road': 1, 'near_cras...</td>\n      <td>True</td>\n      <td>True</td>\n      <td>{'out_of_road': True}</td>\n    </tr>\n    <tr>\n      <th>4</th>\n      <td>[[1.0, 0.0, 8.58471676, 25.5604393, 3.8], [0.0...</td>\n      <td>-1.682766</td>\n      <td>{'near_off_road': 1, 'off_road': 0, 'near_cras...</td>\n      <td>False</td>\n      <td>False</td>\n      <td>{}</td>\n    </tr>\n    <tr>\n      <th>...</th>\n      <td>...</td>\n      <td>...</td>\n      <td>...</td>\n      <td>...</td>\n      <td>...</td>\n      <td>...</td>\n    </tr>\n    <tr>\n      <th>24995</th>\n      <td>[[1.0, 0.0, 1.6, 25.76649929, 0.0], [1.0, 29.5...</td>\n      <td>5.766499</td>\n      <td>{'near_off_road': 0, 'off_road': 0, 'near_cras...</td>\n      <td>False</td>\n      <td>False</td>\n      <td>{}</td>\n    </tr>\n    <tr>\n      <th>24996</th>\n      <td>[[1.0, 0.0, 1.6, 25.76649929, 0.0], [1.0, 30.3...</td>\n      <td>5.766499</td>\n      <td>{'near_off_road': 0, 'off_road': 0, 'near_cras...</td>\n      <td>False</td>\n      <td>False</td>\n      <td>{}</td>\n    </tr>\n    <tr>\n      <th>24997</th>\n      <td>[[1.0, 0.0, 1.6, 25.76649929, 0.0], [1.0, 31.1...</td>\n      <td>5.766499</td>\n      <td>{'near_off_road': 0, 'off_road': 0, 'near_cras...</td>\n      <td>False</td>\n      <td>False</td>\n      <td>{}</td>\n    </tr>\n    <tr>\n      <th>24998</th>\n      <td>[[1.0, 0.0, 1.6, 25.76649929, 0.0], [1.0, 32.0...</td>\n      <td>5.766499</td>\n      <td>{'near_off_road': 0, 'off_road': 0, 'near_cras...</td>\n      <td>False</td>\n      <td>False</td>\n      <td>{}</td>\n    </tr>\n    <tr>\n      <th>24999</th>\n      <td>[[1.0, 0.0, 1.6, 25.76649929, 0.0], [1.0, 32.8...</td>\n      <td>5.766499</td>\n      <td>{'near_off_road': 0, 'off_road': 0, 'near_cras...</td>\n      <td>False</td>\n      <td>False</td>\n      <td>{}</td>\n    </tr>\n  </tbody>\n</table>\n<p>25000 rows × 6 columns</p>\n</div>"
     },
     "execution_count": 9,
     "metadata": {},
     "output_type": "execute_result"
    }
   ],
   "source": [
    "df"
   ],
   "metadata": {
    "collapsed": false,
    "pycharm": {
     "name": "#%%\n"
    }
   }
  },
  {
   "cell_type": "code",
   "execution_count": null,
   "outputs": [],
   "source": [],
   "metadata": {
    "collapsed": false,
    "pycharm": {
     "name": "#%%\n"
    }
   }
  }
 ],
 "metadata": {
  "kernelspec": {
   "display_name": "Python 3",
   "language": "python",
   "name": "python3"
  },
  "language_info": {
   "codemirror_mode": {
    "name": "ipython",
    "version": 2
   },
   "file_extension": ".py",
   "mimetype": "text/x-python",
   "name": "python",
   "nbconvert_exporter": "python",
   "pygments_lexer": "ipython2",
   "version": "2.7.6"
  }
 },
 "nbformat": 4,
 "nbformat_minor": 0
}